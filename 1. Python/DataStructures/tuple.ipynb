{
 "cells": [
  {
   "cell_type": "markdown",
   "id": "f1d9077f",
   "metadata": {},
   "source": [
    "# Tuple"
   ]
  },
  {
   "cell_type": "markdown",
   "id": "777be67c",
   "metadata": {},
   "source": [
    "# creating and accessing tuple"
   ]
  },
  {
   "cell_type": "code",
   "execution_count": 2,
   "id": "8f5c7d3c",
   "metadata": {},
   "outputs": [
    {
     "name": "stdout",
     "output_type": "stream",
     "text": [
      "('hii', 'im', 'pooja')\n"
     ]
    }
   ],
   "source": [
    "var=(\"hii\",\"im\",\"pooja\")\n",
    "print(var)"
   ]
  },
  {
   "cell_type": "code",
   "execution_count": 6,
   "id": "be46e43a",
   "metadata": {},
   "outputs": [
    {
     "name": "stdout",
     "output_type": "stream",
     "text": [
      "3\n",
      "hiii\n"
     ]
    }
   ],
   "source": [
    "value:tuple[int|str,...]=(1,2,3,\"hiii\")# (...) means many arguments of type int and str\n",
    "print(value[2])\n",
    "print(value[-1])"
   ]
  },
  {
   "cell_type": "markdown",
   "id": "68e320cf",
   "metadata": {},
   "source": [
    "# Functions"
   ]
  },
  {
   "cell_type": "markdown",
   "id": "6597b920",
   "metadata": {},
   "source": [
    "# 1.tuple()"
   ]
  },
  {
   "cell_type": "code",
   "execution_count": 7,
   "id": "848e1152",
   "metadata": {},
   "outputs": [
    {
     "name": "stdout",
     "output_type": "stream",
     "text": [
      "(22, 45, 23, 78, 6.89)\n"
     ]
    }
   ],
   "source": [
    "tup=tuple((22,45,23,78,6.89))\n",
    "print(tup)"
   ]
  },
  {
   "cell_type": "markdown",
   "id": "e06b6565",
   "metadata": {},
   "source": [
    "# 2.len()"
   ]
  },
  {
   "cell_type": "code",
   "execution_count": 8,
   "id": "c75eee45",
   "metadata": {},
   "outputs": [
    {
     "data": {
      "text/plain": [
       "5"
      ]
     },
     "execution_count": 8,
     "metadata": {},
     "output_type": "execute_result"
    }
   ],
   "source": [
    "len(tup)"
   ]
  },
  {
   "cell_type": "markdown",
   "id": "f3c38f16",
   "metadata": {},
   "source": [
    "# 3.count()"
   ]
  },
  {
   "cell_type": "code",
   "execution_count": 12,
   "id": "9c8e14ab",
   "metadata": {},
   "outputs": [
    {
     "name": "stdout",
     "output_type": "stream",
     "text": [
      "1\n",
      "0\n"
     ]
    }
   ],
   "source": [
    "print(tup.count(23))\n",
    "print(tup.count(54))"
   ]
  },
  {
   "cell_type": "markdown",
   "id": "93d5cabd",
   "metadata": {},
   "source": [
    "# 4.index()"
   ]
  },
  {
   "cell_type": "code",
   "execution_count": 13,
   "id": "b2d2c75b",
   "metadata": {},
   "outputs": [
    {
     "name": "stdout",
     "output_type": "stream",
     "text": [
      "2\n"
     ]
    }
   ],
   "source": [
    "print(tup.index(23))"
   ]
  },
  {
   "cell_type": "markdown",
   "id": "fb76f85c",
   "metadata": {},
   "source": [
    "# 5.sorted()"
   ]
  },
  {
   "cell_type": "code",
   "execution_count": 14,
   "id": "26787f65",
   "metadata": {},
   "outputs": [
    {
     "data": {
      "text/plain": [
       "[6.89, 22, 23, 45, 78]"
      ]
     },
     "execution_count": 14,
     "metadata": {},
     "output_type": "execute_result"
    }
   ],
   "source": [
    "sorted(tup)"
   ]
  },
  {
   "cell_type": "markdown",
   "id": "50d6ae08",
   "metadata": {},
   "source": [
    "# 6.min(),max(),sum()"
   ]
  },
  {
   "cell_type": "code",
   "execution_count": 18,
   "id": "f4cc3756",
   "metadata": {},
   "outputs": [
    {
     "name": "stdout",
     "output_type": "stream",
     "text": [
      "78\n",
      "6.89\n",
      "174.89\n"
     ]
    }
   ],
   "source": [
    "print(max(tup))\n",
    "print(min(tup))\n",
    "print(sum(tup))"
   ]
  },
  {
   "cell_type": "markdown",
   "id": "9f4dee55",
   "metadata": {},
   "source": [
    "# tuple slicing [start:stop:step]"
   ]
  },
  {
   "cell_type": "code",
   "execution_count": 29,
   "id": "b2e2946e",
   "metadata": {},
   "outputs": [
    {
     "name": "stdout",
     "output_type": "stream",
     "text": [
      "(22, 45, 23, 78, 6.89)\n",
      "(78, 6.89)\n",
      "(22, 45, 23, 78)\n",
      "(45, 78)\n",
      "(22, 23, 6.89)\n",
      "(45, 23, 78)\n"
     ]
    }
   ],
   "source": [
    "print(tup[:])\n",
    "print(tup[3:])\n",
    "print(tup[:4])\n",
    "print(tup[1:5:2])\n",
    "print(tup[::2])\n",
    "print(tup[-4:-1])"
   ]
  },
  {
   "cell_type": "code",
   "execution_count": null,
   "id": "75020b85",
   "metadata": {},
   "outputs": [],
   "source": []
  }
 ],
 "metadata": {
  "kernelspec": {
   "display_name": "Python 3 (ipykernel)",
   "language": "python",
   "name": "python3"
  },
  "language_info": {
   "codemirror_mode": {
    "name": "ipython",
    "version": 3
   },
   "file_extension": ".py",
   "mimetype": "text/x-python",
   "name": "python",
   "nbconvert_exporter": "python",
   "pygments_lexer": "ipython3",
   "version": "3.10.5"
  }
 },
 "nbformat": 4,
 "nbformat_minor": 5
}
