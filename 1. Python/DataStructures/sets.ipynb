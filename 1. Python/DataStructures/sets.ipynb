{
 "cells": [
  {
   "cell_type": "markdown",
   "id": "f018740b",
   "metadata": {},
   "source": [
    "# Sets"
   ]
  },
  {
   "cell_type": "code",
   "execution_count": 5,
   "id": "f4141067",
   "metadata": {},
   "outputs": [
    {
     "name": "stdout",
     "output_type": "stream",
     "text": [
      "{'pooja', 'im', 'hii'}\n",
      "{1, 2, 3, 4}\n"
     ]
    }
   ],
   "source": [
    "var={\"hii\",\"im\",\"pooja\"}\n",
    "print(var)\n",
    "var1=set([1,3,2,4])\n",
    "print(var1)"
   ]
  },
  {
   "cell_type": "code",
   "execution_count": 15,
   "id": "9ad6857a",
   "metadata": {},
   "outputs": [
    {
     "name": "stdout",
     "output_type": "stream",
     "text": [
      "Normal Set\n",
      "{'b', 'a', 'c'}\n",
      "\n",
      "Frozen Set\n",
      "frozenset({'g', 'e', 'f'})\n",
      "{'b', 'a', 'h', 'c'}\n"
     ]
    }
   ],
   "source": [
    "normal_set = set([\"a\", \"b\",\"c\"])\n",
    "print(\"Normal Set\")\n",
    "print(normal_set)\n",
    "\n",
    "# A frozen set\n",
    "frozen_set = frozenset([\"e\", \"f\", \"g\"])\n",
    "print(\"\\nFrozen Set\")\n",
    "print(frozen_set)\n",
    "\n",
    "#frozen_set.add(\"h\") #leads to error\n",
    "normal_set.add(\"h\")\n",
    "print(normal_set)"
   ]
  },
  {
   "cell_type": "markdown",
   "id": "123a63e6",
   "metadata": {},
   "source": [
    "# Functions"
   ]
  },
  {
   "cell_type": "markdown",
   "id": "6e55d784",
   "metadata": {},
   "source": [
    "# add()"
   ]
  },
  {
   "cell_type": "code",
   "execution_count": 17,
   "id": "c6a0d5d9",
   "metadata": {},
   "outputs": [
    {
     "name": "stdout",
     "output_type": "stream",
     "text": [
      "People: {'Jay', 'Archi', 'Idrish'}\n",
      "\n",
      "Set after adding element: {1, 2, 3, 4, 5, 'Idrish', 'Daxit', 'Jay', 'Archi'}\n"
     ]
    }
   ],
   "source": [
    "people = {\"Jay\", \"Idrish\", \"Archi\"}\n",
    "print(\"People:\", end = \" \")\n",
    "print(people)\n",
    "people.add(\"Daxit\")\n",
    "\n",
    "# set using iterator\n",
    "for i in range(1, 6):\n",
    "\tpeople.add(i)\n",
    "\n",
    "print(\"\\nSet after adding element:\", end = \" \")\n",
    "print(people)\n"
   ]
  },
  {
   "cell_type": "markdown",
   "id": "d2ee68d6",
   "metadata": {},
   "source": [
    "# union()"
   ]
  },
  {
   "cell_type": "code",
   "execution_count": 22,
   "id": "28a3d693",
   "metadata": {},
   "outputs": [
    {
     "name": "stdout",
     "output_type": "stream",
     "text": [
      "Union using union() function\n",
      "{'Arjun', 'Jay', 'Karan', 'Archil', 'Idrish'}\n",
      "\n",
      "Union using '|' operator\n",
      "{'Jay', 'Raju', 'Deepanshu', 'Archil', 'Idrish'}\n"
     ]
    }
   ],
   "source": [
    "people = {\"Jay\", \"Idrish\", \"Archil\"}\n",
    "vampires = {\"Karan\", \"Arjun\"}\n",
    "dracula = {\"Deepanshu\", \"Raju\"}\n",
    "population = people.union(vampires)\n",
    "\n",
    "print(\"Union using union() function\")\n",
    "print(population)\n",
    "\n",
    "# Union using \"|\"\n",
    "# operator\n",
    "population = people|dracula\n",
    "\n",
    "print(\"\\nUnion using '|' operator\")\n",
    "print(population)\n"
   ]
  },
  {
   "cell_type": "markdown",
   "id": "7c18c912",
   "metadata": {},
   "source": [
    "# intersection()"
   ]
  },
  {
   "cell_type": "code",
   "execution_count": 24,
   "id": "2e216421",
   "metadata": {},
   "outputs": [
    {
     "name": "stdout",
     "output_type": "stream",
     "text": [
      "Intersection using intersection() function\n",
      "{3, 4}\n",
      "\n",
      "Intersection using '&' operator\n",
      "{3, 4}\n"
     ]
    }
   ],
   "source": [
    "set1 = set()\n",
    "set2 = set()\n",
    "\n",
    "for i in range(5):\n",
    "\tset1.add(i)\n",
    "\n",
    "for i in range(3,9):\n",
    "\tset2.add(i)\n",
    "\n",
    "# Intersection using\n",
    "# intersection() function\n",
    "set3 = set1.intersection(set2)\n",
    "\n",
    "print(\"Intersection using intersection() function\")\n",
    "print(set3)\n",
    "\n",
    "# Intersection using\n",
    "# \"&\" operator\n",
    "set3 = set1 & set2\n",
    "\n",
    "print(\"\\nIntersection using '&' operator\")\n",
    "print(set3)\n"
   ]
  },
  {
   "cell_type": "markdown",
   "id": "b48fa091",
   "metadata": {},
   "source": [
    "# difference()"
   ]
  },
  {
   "cell_type": "code",
   "execution_count": 27,
   "id": "b55539fc",
   "metadata": {},
   "outputs": [
    {
     "name": "stdout",
     "output_type": "stream",
     "text": [
      " Difference of two sets using difference() function\n",
      "{0, 1, 2}\n",
      "\n",
      "Difference of two sets using '-' operator\n",
      "{0, 1, 2}\n"
     ]
    }
   ],
   "source": [
    "set1 = set()\n",
    "set2 = set()\n",
    "\n",
    "for i in range(5):\n",
    "\tset1.add(i)\n",
    "\n",
    "for i in range(3,9):\n",
    "\tset2.add(i)\n",
    "\n",
    "set3 = set1.difference(set2)\n",
    "\n",
    "print(\" Difference of two sets using difference() function\")\n",
    "print(set3)\n",
    "\n",
    "set3 = set1 - set2\n",
    "\n",
    "print(\"\\nDifference of two sets using '-' operator\")\n",
    "print(set3)\n"
   ]
  },
  {
   "cell_type": "markdown",
   "id": "ba4fcabb",
   "metadata": {},
   "source": [
    "# clear()"
   ]
  },
  {
   "cell_type": "code",
   "execution_count": 31,
   "id": "2d06ceb9",
   "metadata": {},
   "outputs": [
    {
     "name": "stdout",
     "output_type": "stream",
     "text": [
      "Initial set\n",
      "{1, 2, 3, 4, 5, 6}\n",
      "\n",
      "Set after using clear() function\n",
      "set()\n"
     ]
    }
   ],
   "source": [
    "set1 = {1,2,3,4,5,6}\n",
    "\n",
    "print(\"Initial set\")\n",
    "print(set1)\n",
    "\n",
    "set1.clear()\n",
    "\n",
    "print(\"\\nSet after using clear() function\")\n",
    "print(set1)\n"
   ]
  },
  {
   "cell_type": "markdown",
   "id": "c1a96886",
   "metadata": {},
   "source": [
    "Operators for Sets\n",
    "Sets and frozen sets support the following operators:\n",
    "\n",
    "Operators\tNotes\n",
    "key in s\tcontainment check\n",
    "key not in s\tnon-containment check\n",
    "s1 == s2\ts1 is equivalent to s2\n",
    "s1 != s2\ts1 is not equivalent to s2\n",
    "s1 <= s2\ts1 is subset of s2\n",
    "s1 < s2\ts1 is proper subset of s2\n",
    "s1 >= s2\ts1 is superset of s2\n",
    "s1 > s2\ts1 is proper superset of s2\n",
    "s1 | s2\tthe union of s1 and s2\n",
    "s1 & s2\tthe intersection of s1 and s2\n",
    "s1 – s2\tthe set of elements in s1 but not s2\n",
    "s1 ˆ s2\tthe set of elements in precisely one of s1 or s2"
   ]
  },
  {
   "cell_type": "code",
   "execution_count": null,
   "id": "b145b1cd",
   "metadata": {},
   "outputs": [],
   "source": []
  }
 ],
 "metadata": {
  "kernelspec": {
   "display_name": "Python 3 (ipykernel)",
   "language": "python",
   "name": "python3"
  },
  "language_info": {
   "codemirror_mode": {
    "name": "ipython",
    "version": 3
   },
   "file_extension": ".py",
   "mimetype": "text/x-python",
   "name": "python",
   "nbconvert_exporter": "python",
   "pygments_lexer": "ipython3",
   "version": "3.10.5"
  }
 },
 "nbformat": 4,
 "nbformat_minor": 5
}
