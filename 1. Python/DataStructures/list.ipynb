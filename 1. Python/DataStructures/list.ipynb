{
 "cells": [
  {
   "cell_type": "markdown",
   "id": "d567582c",
   "metadata": {},
   "source": [
    "# Syntax:"
   ]
  },
  {
   "cell_type": "code",
   "execution_count": 3,
   "id": "17bc88b1",
   "metadata": {},
   "outputs": [
    {
     "name": "stdout",
     "output_type": "stream",
     "text": [
      "['a', 'b', 'c']\n"
     ]
    }
   ],
   "source": [
    "l=[\"a\",\"b\",\"c\"]\n",
    "print(l)"
   ]
  },
  {
   "cell_type": "markdown",
   "id": "0053d655",
   "metadata": {},
   "source": [
    "# properties"
   ]
  },
  {
   "cell_type": "markdown",
   "id": "cb98f448",
   "metadata": {},
   "source": [
    "1.Ordered: [added items will be placed at end without changing order]"
   ]
  },
  {
   "cell_type": "markdown",
   "id": "865692d4",
   "metadata": {},
   "source": [
    "2.Mutable: [we can add or remove items ]"
   ]
  },
  {
   "cell_type": "markdown",
   "id": "b06af26c",
   "metadata": {},
   "source": [
    "3.Allow duplicates"
   ]
  },
  {
   "cell_type": "code",
   "execution_count": 12,
   "id": "e4d1deca",
   "metadata": {},
   "outputs": [
    {
     "name": "stdout",
     "output_type": "stream",
     "text": [
      "['a', 'b', 'c', 'd']\n"
     ]
    }
   ],
   "source": [
    "l.append(\"d\")\n",
    "print(l)"
   ]
  },
  {
   "cell_type": "code",
   "execution_count": 13,
   "id": "092eef8d",
   "metadata": {
    "scrolled": false
   },
   "outputs": [
    {
     "name": "stdout",
     "output_type": "stream",
     "text": [
      "['a', 'c', 'd']\n"
     ]
    }
   ],
   "source": [
    "l.pop(1)\n",
    "print(l)"
   ]
  },
  {
   "cell_type": "code",
   "execution_count": 18,
   "id": "590a4b7a",
   "metadata": {},
   "outputs": [
    {
     "name": "stdout",
     "output_type": "stream",
     "text": [
      "['a', 'c', 'd', 'machine learning']\n"
     ]
    }
   ],
   "source": [
    "#we can add values of different data type\n",
    "l.append(\"machine learning\")\n",
    "print(l)"
   ]
  },
  {
   "cell_type": "code",
   "execution_count": 22,
   "id": "a00eb0eb",
   "metadata": {},
   "outputs": [
    {
     "name": "stdout",
     "output_type": "stream",
     "text": [
      "['a', 'c', 'd', 'machine learning', 'd', 'd', 'd']\n"
     ]
    }
   ],
   "source": [
    "#allow duplicate values\n",
    "l.append(\"d\")\n",
    "print(l)"
   ]
  },
  {
   "cell_type": "markdown",
   "id": "9d7018f1",
   "metadata": {},
   "source": [
    "# Accessing elements"
   ]
  },
  {
   "cell_type": "code",
   "execution_count": 42,
   "id": "c88c8913",
   "metadata": {},
   "outputs": [
    {
     "name": "stdout",
     "output_type": "stream",
     "text": [
      "['a', 'c', 'd', 'machine learning', 'd']\n"
     ]
    }
   ],
   "source": [
    "#all elements\n",
    "print(l)"
   ]
  },
  {
   "cell_type": "code",
   "execution_count": 25,
   "id": "ef8457d9",
   "metadata": {},
   "outputs": [
    {
     "name": "stdout",
     "output_type": "stream",
     "text": [
      "machine learning\n"
     ]
    }
   ],
   "source": [
    "#particular position\n",
    "print(l[3])"
   ]
  },
  {
   "cell_type": "code",
   "execution_count": 33,
   "id": "8b65cc96",
   "metadata": {},
   "outputs": [
    {
     "name": "stdout",
     "output_type": "stream",
     "text": [
      "c\n"
     ]
    }
   ],
   "source": [
    "#negative indexing\n",
    "print(l[-4])"
   ]
  },
  {
   "cell_type": "code",
   "execution_count": 43,
   "id": "09cdb6b6",
   "metadata": {},
   "outputs": [
    {
     "name": "stdout",
     "output_type": "stream",
     "text": [
      "['a', 'c', 'd', 'machine learning']\n",
      "['d', 'machine learning', 'd']\n",
      "['c', 'd', 'machine learning']\n",
      "['c', 'd']\n"
     ]
    }
   ],
   "source": [
    "#starting to specified index\n",
    "print(l[:4])\n",
    "#specified index to ending\n",
    "print(l[2:])\n",
    "#range[start index(included):end index(excluded)]\n",
    "print(l[1:4])\n",
    "#range of -ve indexing[start index(included):end index(excluded)]\n",
    "print(l[-4:-2])\n"
   ]
  },
  {
   "cell_type": "markdown",
   "id": "dd136d1e",
   "metadata": {},
   "source": [
    "# List methods"
   ]
  },
  {
   "cell_type": "markdown",
   "id": "a20cdbc9",
   "metadata": {},
   "source": [
    "# 1.append()"
   ]
  },
  {
   "cell_type": "code",
   "execution_count": 44,
   "id": "73fe5d55",
   "metadata": {},
   "outputs": [],
   "source": [
    "#add element\n",
    "l.append(\"hiii\")"
   ]
  },
  {
   "cell_type": "code",
   "execution_count": 46,
   "id": "fdec02d2",
   "metadata": {},
   "outputs": [],
   "source": [
    "#add list to list\n",
    "l1=[1,2,3,4]\n",
    "l.append(l1)"
   ]
  },
  {
   "cell_type": "code",
   "execution_count": 57,
   "id": "c7ba8ff1",
   "metadata": {
    "scrolled": true
   },
   "outputs": [
    {
     "name": "stdout",
     "output_type": "stream",
     "text": [
      "['a', 'c', 'd', 'machine learning', 'd', 'hiii', [1, 2, 3, 4]]\n"
     ]
    }
   ],
   "source": [
    "print(l)"
   ]
  },
  {
   "cell_type": "markdown",
   "id": "082072ed",
   "metadata": {},
   "source": [
    "# 2.copy()"
   ]
  },
  {
   "cell_type": "code",
   "execution_count": 48,
   "id": "88f4a09f",
   "metadata": {},
   "outputs": [
    {
     "name": "stdout",
     "output_type": "stream",
     "text": [
      "['a', 'c', 'd', 'machine learning', 'd', 'hiii', [1, 2, 3, 4]]\n"
     ]
    }
   ],
   "source": [
    "l3=l.copy()\n",
    "print(l3)"
   ]
  },
  {
   "cell_type": "markdown",
   "id": "4f0354ea",
   "metadata": {},
   "source": [
    "# 3.clear()"
   ]
  },
  {
   "cell_type": "code",
   "execution_count": 51,
   "id": "c2fc4093",
   "metadata": {
    "scrolled": true
   },
   "outputs": [
    {
     "name": "stdout",
     "output_type": "stream",
     "text": [
      "[]\n"
     ]
    }
   ],
   "source": [
    "l4=[1,\"a\",\"hii\",True]\n",
    "l4.clear()\n",
    "print(l4)"
   ]
  },
  {
   "cell_type": "code",
   "execution_count": 53,
   "id": "89f3fd8d",
   "metadata": {},
   "outputs": [
    {
     "name": "stdout",
     "output_type": "stream",
     "text": [
      "['a', 'c', 'd']\n"
     ]
    }
   ],
   "source": [
    "#clear specified range using del\n",
    "del l3[3:5]\n",
    "print(l3)"
   ]
  },
  {
   "cell_type": "markdown",
   "id": "f600b23c",
   "metadata": {},
   "source": [
    "# 4.count()"
   ]
  },
  {
   "cell_type": "code",
   "execution_count": 59,
   "id": "febbbb50",
   "metadata": {
    "scrolled": true
   },
   "outputs": [
    {
     "name": "stdout",
     "output_type": "stream",
     "text": [
      "2\n"
     ]
    }
   ],
   "source": [
    "print(l.count('d'))"
   ]
  },
  {
   "cell_type": "markdown",
   "id": "87d07cfc",
   "metadata": {},
   "source": [
    "# 5.extend()"
   ]
  },
  {
   "cell_type": "code",
   "execution_count": 61,
   "id": "a3bec169",
   "metadata": {
    "scrolled": true
   },
   "outputs": [
    {
     "name": "stdout",
     "output_type": "stream",
     "text": [
      "['a', 'c', 'd', 'machine learning', 'd', 'hiii', [1, 2, 3, 4], 6, 4, 5, 8]\n",
      "['a', 'c', 'd', 'machine learning', 'd', 'hiii', [1, 2, 3, 4], 6, 4, 5, 8, 6, 4, 5, 8]\n"
     ]
    }
   ],
   "source": [
    "#with list\n",
    "print(l)\n",
    "l.extend([6,4,5,8])\n",
    "print(l)"
   ]
  },
  {
   "cell_type": "code",
   "execution_count": 67,
   "id": "3249f124",
   "metadata": {},
   "outputs": [
    {
     "name": "stdout",
     "output_type": "stream",
     "text": [
      "[1, 2, 3, 4, 'FE', 'SE', 'TE']\n",
      "[1, 2, 3, 4, 'FE', 'SE', 'TE', False, True]\n"
     ]
    }
   ],
   "source": [
    "#with tuple and set\n",
    "listex=[1,2,3,4]\n",
    "tup=(\"FE\",\"SE\",\"TE\")\n",
    "setex={True,False}\n",
    "listex.extend(tup)\n",
    "print(listex)\n",
    "listex.extend(setex)\n",
    "print(listex)"
   ]
  },
  {
   "cell_type": "code",
   "execution_count": 69,
   "id": "b085f1ca",
   "metadata": {
    "scrolled": true
   },
   "outputs": [
    {
     "name": "stdout",
     "output_type": "stream",
     "text": [
      "[1, 2, 3, 4, 'p', 'o', 'o', 'j', 'a']\n"
     ]
    }
   ],
   "source": [
    "#with string\n",
    "l=[1,2,3,4]\n",
    "l.extend(\"pooja\")\n",
    "print(l)"
   ]
  },
  {
   "cell_type": "markdown",
   "id": "c67d35ee",
   "metadata": {},
   "source": [
    "# 6.index()"
   ]
  },
  {
   "cell_type": "code",
   "execution_count": 72,
   "id": "6f0c80dd",
   "metadata": {},
   "outputs": [
    {
     "name": "stdout",
     "output_type": "stream",
     "text": [
      "4\n"
     ]
    }
   ],
   "source": [
    "print(l.index(\"p\"))"
   ]
  },
  {
   "cell_type": "code",
   "execution_count": 77,
   "id": "1678ce89",
   "metadata": {
    "scrolled": true
   },
   "outputs": [
    {
     "name": "stdout",
     "output_type": "stream",
     "text": [
      "6\n",
      "2\n"
     ]
    }
   ],
   "source": [
    "#index of 'o' in sublist from 6 to 8 ele\n",
    "print(l.index('o',6,8))\n",
    "print(l.index(3,2))"
   ]
  },
  {
   "cell_type": "markdown",
   "id": "3f7a75c7",
   "metadata": {},
   "source": [
    "# 7.insert()"
   ]
  },
  {
   "cell_type": "code",
   "execution_count": 80,
   "id": "12146811",
   "metadata": {},
   "outputs": [
    {
     "name": "stdout",
     "output_type": "stream",
     "text": [
      "[1, 2, 'a', 3, 4, 5]\n"
     ]
    }
   ],
   "source": [
    "l=[1,2,3,4,5]\n",
    "l.insert(2,\"a\")\n",
    "print(l)"
   ]
  },
  {
   "cell_type": "code",
   "execution_count": 87,
   "id": "38cfe9b4",
   "metadata": {},
   "outputs": [
    {
     "name": "stdout",
     "output_type": "stream",
     "text": [
      "[1, 2, 3, 4]\n",
      "[1, 2, ('a', 'b', 'c'), 3, 4]\n"
     ]
    }
   ],
   "source": [
    "#insert tuple\n",
    "tup=(\"a\",\"b\",\"c\")\n",
    "l=[1,2,3,4]\n",
    "print(l)\n",
    "l.insert(2,tup)\n",
    "print(l)"
   ]
  },
  {
   "cell_type": "markdown",
   "id": "6bff995e",
   "metadata": {},
   "source": [
    "# 8.pop()"
   ]
  },
  {
   "cell_type": "code",
   "execution_count": 89,
   "id": "218f668c",
   "metadata": {},
   "outputs": [
    {
     "name": "stdout",
     "output_type": "stream",
     "text": [
      "4\n"
     ]
    }
   ],
   "source": [
    "l=[1,2,3,4]\n",
    "print(l.pop())"
   ]
  },
  {
   "cell_type": "code",
   "execution_count": 91,
   "id": "8aec0016",
   "metadata": {},
   "outputs": [
    {
     "name": "stdout",
     "output_type": "stream",
     "text": [
      "[1, 2, 3, 4, 5, 7, 8, 9, 10]\n"
     ]
    }
   ],
   "source": [
    "l=[1,2,3,4,5,6,7,8,9,10]\n",
    "l.pop(5)\n",
    "print(l)"
   ]
  },
  {
   "cell_type": "markdown",
   "id": "2b06823d",
   "metadata": {},
   "source": [
    "# 9.remove()"
   ]
  },
  {
   "cell_type": "code",
   "execution_count": 93,
   "id": "88dc4d9e",
   "metadata": {},
   "outputs": [
    {
     "name": "stdout",
     "output_type": "stream",
     "text": [
      "[2, 3, 1, 1, 1, 1, 1, 1, 5]\n"
     ]
    }
   ],
   "source": [
    "l=[1,2,3,1,1,1,1,1,1,5]\n",
    "#remove first occurence of 1\n",
    "l.remove(1)\n",
    "print(l)"
   ]
  },
  {
   "cell_type": "code",
   "execution_count": 95,
   "id": "ab18daed",
   "metadata": {},
   "outputs": [
    {
     "name": "stdout",
     "output_type": "stream",
     "text": [
      "[2, 3, 5]\n"
     ]
    }
   ],
   "source": [
    "#remove all the occurence of 1\n",
    "while (l.count(1)):\n",
    "    l.remove(1)\n",
    "print(l)"
   ]
  },
  {
   "cell_type": "markdown",
   "id": "e4e43de6",
   "metadata": {},
   "source": [
    "# 10.reverse()"
   ]
  },
  {
   "cell_type": "code",
   "execution_count": 97,
   "id": "1fe9aafd",
   "metadata": {},
   "outputs": [
    {
     "name": "stdout",
     "output_type": "stream",
     "text": [
      "[7, 6, 5, 4, 3, 2, 1]\n"
     ]
    }
   ],
   "source": [
    "l=[1,2,3,4,5,6,7]\n",
    "l.reverse()\n",
    "print(l)"
   ]
  },
  {
   "cell_type": "markdown",
   "id": "6cb21a63",
   "metadata": {},
   "source": [
    "# 11.sort()"
   ]
  },
  {
   "cell_type": "code",
   "execution_count": 101,
   "id": "91532d97",
   "metadata": {},
   "outputs": [
    {
     "name": "stdout",
     "output_type": "stream",
     "text": [
      "[1, 3, 4, 5, 8, 9]\n",
      "[1, 3, 4, 5, 8, 9]\n",
      "[9, 8, 5, 4, 3, 1]\n"
     ]
    }
   ],
   "source": [
    "l=[1,8,4,9,3,5]\n",
    "l.sort()\n",
    "print(l)\n",
    "print(sorted(l))\n",
    "l.sort(reverse=True)\n",
    "print(l)"
   ]
  },
  {
   "cell_type": "code",
   "execution_count": 106,
   "id": "c09769c4",
   "metadata": {
    "scrolled": true
   },
   "outputs": [
    {
     "name": "stdout",
     "output_type": "stream",
     "text": [
      "['a', 'e', 'f', 'h', 'i']\n",
      "['i', 'h', 'f', 'e', 'a']\n"
     ]
    }
   ],
   "source": [
    "l=[\"a\",'f','h','i','e']\n",
    "print(sorted(l))\n",
    "l.sort(reverse=True)\n",
    "print(l)"
   ]
  },
  {
   "cell_type": "markdown",
   "id": "b0d87152",
   "metadata": {},
   "source": [
    "# 12.min()"
   ]
  },
  {
   "cell_type": "code",
   "execution_count": 112,
   "id": "1662bc5d",
   "metadata": {},
   "outputs": [
    {
     "name": "stdout",
     "output_type": "stream",
     "text": [
      "1\n",
      "c\n"
     ]
    }
   ],
   "source": [
    "l=[1,2,3,4,5,6,]\n",
    "print(min(l))\n",
    "l=[\"j\",\"k\",\"c\",\"f\"]\n",
    "print(min(l))"
   ]
  },
  {
   "cell_type": "markdown",
   "id": "279b0c4c",
   "metadata": {},
   "source": [
    "# 13.max()"
   ]
  },
  {
   "cell_type": "code",
   "execution_count": 114,
   "id": "12866213",
   "metadata": {},
   "outputs": [
    {
     "name": "stdout",
     "output_type": "stream",
     "text": [
      "6\n",
      "k\n"
     ]
    }
   ],
   "source": [
    "l=[1,2,3,4,5,6]\n",
    "print(max(l))\n",
    "l=[\"j\",\"k\",\"c\",\"f\"]\n",
    "print(max(l))"
   ]
  },
  {
   "cell_type": "markdown",
   "id": "09f88735",
   "metadata": {},
   "source": [
    "# 14.len()"
   ]
  },
  {
   "cell_type": "code",
   "execution_count": 115,
   "id": "2e7dfd98",
   "metadata": {},
   "outputs": [
    {
     "name": "stdout",
     "output_type": "stream",
     "text": [
      "4\n"
     ]
    }
   ],
   "source": [
    "print(len(l))"
   ]
  },
  {
   "cell_type": "markdown",
   "id": "30c15153",
   "metadata": {},
   "source": []
  }
 ],
 "metadata": {
  "kernelspec": {
   "display_name": "Python 3 (ipykernel)",
   "language": "python",
   "name": "python3"
  },
  "language_info": {
   "codemirror_mode": {
    "name": "ipython",
    "version": 3
   },
   "file_extension": ".py",
   "mimetype": "text/x-python",
   "name": "python",
   "nbconvert_exporter": "python",
   "pygments_lexer": "ipython3",
   "version": "3.10.5"
  }
 },
 "nbformat": 4,
 "nbformat_minor": 5
}
