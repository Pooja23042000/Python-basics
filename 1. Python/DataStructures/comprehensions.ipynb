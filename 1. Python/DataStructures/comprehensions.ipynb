{
 "cells": [
  {
   "cell_type": "markdown",
   "id": "7bcd77e4",
   "metadata": {},
   "source": [
    "# List comprehensions"
   ]
  },
  {
   "cell_type": "markdown",
   "id": "a6694b38",
   "metadata": {},
   "source": [
    "# Syntax:\n",
    "output_list = [output_exp for var in input_list if (var satisfies this condition)]"
   ]
  },
  {
   "cell_type": "code",
   "execution_count": 2,
   "id": "8e8302d8",
   "metadata": {},
   "outputs": [
    {
     "name": "stdout",
     "output_type": "stream",
     "text": [
      "Output List using list comprehensions: [2, 4, 4, 6]\n"
     ]
    }
   ],
   "source": [
    "input_list = [1, 2, 3, 4, 4, 5, 6, 7, 7]\n",
    "\n",
    "\n",
    "list_using_comp = [var for var in input_list if var % 2 == 0]\n",
    "\n",
    "print(\"Output List using list comprehensions:\",list_using_comp)\n"
   ]
  },
  {
   "cell_type": "markdown",
   "id": "6eec9c52",
   "metadata": {},
   "source": [
    "# Dictionary comprehensions"
   ]
  },
  {
   "cell_type": "code",
   "execution_count": 4,
   "id": "c5ff4a7e",
   "metadata": {},
   "outputs": [
    {
     "name": "stdout",
     "output_type": "stream",
     "text": [
      "Output Dictionary using dictionary comprehensions: {'Gujarat': 'Gandhinagar', 'Maharashtra': 'Mumbai', 'Rajasthan': 'Jaipur'}\n"
     ]
    }
   ],
   "source": [
    "state = ['Gujarat', 'Maharashtra', 'Rajasthan']\n",
    "capital = ['Gandhinagar', 'Mumbai', 'Jaipur']\n",
    "\n",
    "dict_using_comp = {key:value for (key, value) in zip(state, capital)}\n",
    "\n",
    "print(\"Output Dictionary using dictionary comprehensions:\",dict_using_comp)"
   ]
  },
  {
   "cell_type": "markdown",
   "id": "655e9cab",
   "metadata": {},
   "source": [
    "# Set comprehension"
   ]
  },
  {
   "cell_type": "code",
   "execution_count": 7,
   "id": "b5d09517",
   "metadata": {},
   "outputs": [
    {
     "name": "stdout",
     "output_type": "stream",
     "text": [
      "Output Set using set comprehensions: {2, 4, 6}\n"
     ]
    }
   ],
   "source": [
    "input_list = [1, 2, 3, 4, 4, 5, 6, 6, 6, 7, 7]\n",
    "\n",
    "set_using_comp = {var for var in input_list if var % 2 == 0}\n",
    "\n",
    "print(\"Output Set using set comprehensions:\",set_using_comp)\n"
   ]
  },
  {
   "cell_type": "markdown",
   "id": "f5eb3427",
   "metadata": {},
   "source": [
    "# Generator comprehension"
   ]
  },
  {
   "cell_type": "code",
   "execution_count": 21,
   "id": "55ce9e21",
   "metadata": {},
   "outputs": [
    {
     "name": "stdout",
     "output_type": "stream",
     "text": [
      "Output values using generator comprehensions: 2 4 4 6 "
     ]
    }
   ],
   "source": [
    "input_list = [1, 2, 3, 4, 4, 5, 6, 7, 7]\n",
    "\n",
    "output_gen = (var for var in input_list if var % 2 == 0)\n",
    "\n",
    "print(\"Output values using generator comprehensions:\", end = ' ')\n",
    "\n",
    "for var in output_gen:\n",
    "\tprint(var, end = ' ')\n"
   ]
  },
  {
   "cell_type": "code",
   "execution_count": null,
   "id": "595a91ae",
   "metadata": {},
   "outputs": [],
   "source": []
  }
 ],
 "metadata": {
  "kernelspec": {
   "display_name": "Python 3 (ipykernel)",
   "language": "python",
   "name": "python3"
  },
  "language_info": {
   "codemirror_mode": {
    "name": "ipython",
    "version": 3
   },
   "file_extension": ".py",
   "mimetype": "text/x-python",
   "name": "python",
   "nbconvert_exporter": "python",
   "pygments_lexer": "ipython3",
   "version": "3.10.5"
  }
 },
 "nbformat": 4,
 "nbformat_minor": 5
}
