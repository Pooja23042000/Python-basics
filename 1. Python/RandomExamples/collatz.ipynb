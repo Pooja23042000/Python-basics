{
 "cells": [
  {
   "cell_type": "code",
   "execution_count": 3,
   "id": "ef1e87d6",
   "metadata": {},
   "outputs": [
    {
     "name": "stdout",
     "output_type": "stream",
     "text": [
      "enter the digit: 13\n",
      "[13, 40, 20.0, 10.0, 5.0, 16.0, 8.0, 4.0, 2.0, 1.0]\n"
     ]
    }
   ],
   "source": [
    "def collatz(n):\n",
    "    inc=1\n",
    "    c=[]\n",
    "    c.append(n)\n",
    "    while n>1:\n",
    "        if n%2==0:\n",
    "            n=n/2\n",
    "        else:\n",
    "            n=(3*n)+1\n",
    "        c.append(n)\n",
    "    return c\n",
    "j=int(input(\"enter the digit: \"))\n",
    "print(collatz(j))"
   ]
  },
  {
   "cell_type": "code",
   "execution_count": null,
   "id": "33d6fe01",
   "metadata": {},
   "outputs": [],
   "source": []
  }
 ],
 "metadata": {
  "kernelspec": {
   "display_name": "Python 3 (ipykernel)",
   "language": "python",
   "name": "python3"
  },
  "language_info": {
   "codemirror_mode": {
    "name": "ipython",
    "version": 3
   },
   "file_extension": ".py",
   "mimetype": "text/x-python",
   "name": "python",
   "nbconvert_exporter": "python",
   "pygments_lexer": "ipython3",
   "version": "3.9.12"
  }
 },
 "nbformat": 4,
 "nbformat_minor": 5
}
