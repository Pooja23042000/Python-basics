{
 "cells": [
  {
   "cell_type": "code",
   "execution_count": null,
   "id": "7f0a62b6",
   "metadata": {},
   "outputs": [
    {
     "name": "stdout",
     "output_type": "stream",
     "text": [
      "Enter a number34\n",
      "not a valid single digit.Try again\n",
      "Enter a number2\n",
      "Valid single digit\n",
      "Enter a number23\n",
      "not a valid single digit.Try again\n",
      "Enter a number1\n",
      "Valid single digit\n"
     ]
    }
   ],
   "source": [
    "def getsd(num):\n",
    "    if len(num)==1 and number.isdigit():\n",
    "        return True\n",
    "    else:\n",
    "        return False\n",
    "    \n",
    "while True:\n",
    "    number=input(\"Enter a number\")\n",
    "    if getsd(number):\n",
    "        print(\"Valid single digit\")\n",
    "    else:\n",
    "        print(\"not a valid single digit.Try again\")\n",
    "        \n",
    "print(\"Single digit you enter is:\",number)"
   ]
  },
  {
   "cell_type": "code",
   "execution_count": null,
   "id": "a71dff30",
   "metadata": {},
   "outputs": [],
   "source": []
  }
 ],
 "metadata": {
  "kernelspec": {
   "display_name": "Python 3 (ipykernel)",
   "language": "python",
   "name": "python3"
  },
  "language_info": {
   "codemirror_mode": {
    "name": "ipython",
    "version": 3
   },
   "file_extension": ".py",
   "mimetype": "text/x-python",
   "name": "python",
   "nbconvert_exporter": "python",
   "pygments_lexer": "ipython3",
   "version": "3.9.12"
  }
 },
 "nbformat": 4,
 "nbformat_minor": 5
}
