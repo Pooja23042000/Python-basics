{
 "cells": [
  {
   "cell_type": "code",
   "execution_count": 2,
   "id": "3b73a223",
   "metadata": {},
   "outputs": [
    {
     "name": "stdout",
     "output_type": "stream",
     "text": [
      "enter the upperlimit:3\n",
      "1\t2\t3\t\n",
      "2\t4\t6\t\n",
      "3\t6\t9\t\n",
      "4\t8\t12\t\n",
      "5\t10\t15\t\n",
      "6\t12\t18\t\n",
      "7\t14\t21\t\n",
      "8\t16\t24\t\n"
     ]
    }
   ],
   "source": [
    "def multable(n):\n",
    "    for i in range(1,9):\n",
    "        for j in range(1,n+1):\n",
    "            print(i*j,end='\\t')\n",
    "        print()\n",
    "mul=int(input(\"enter the upperlimit:\"))\n",
    "multable(mul)\n",
    "    "
   ]
  },
  {
   "cell_type": "code",
   "execution_count": null,
   "id": "8d2c699b",
   "metadata": {},
   "outputs": [],
   "source": []
  }
 ],
 "metadata": {
  "kernelspec": {
   "display_name": "Python 3 (ipykernel)",
   "language": "python",
   "name": "python3"
  },
  "language_info": {
   "codemirror_mode": {
    "name": "ipython",
    "version": 3
   },
   "file_extension": ".py",
   "mimetype": "text/x-python",
   "name": "python",
   "nbconvert_exporter": "python",
   "pygments_lexer": "ipython3",
   "version": "3.9.12"
  }
 },
 "nbformat": 4,
 "nbformat_minor": 5
}
